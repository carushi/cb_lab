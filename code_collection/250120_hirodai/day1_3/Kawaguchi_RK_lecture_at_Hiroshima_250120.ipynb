{
  "cells": [
    {
      "cell_type": "markdown",
      "id": "c6da2ded-1dc5-415c-90de-39116b4960a7",
      "metadata": {
        "id": "c6da2ded-1dc5-415c-90de-39116b4960a7"
      },
      "source": [
        "# Word2vec application tutorial\n",
        "広島大学 大学院統合生命科学研究科 数理生命科学プログラム\n",
        "「高次元生命情報の数理」\n",
        "created by @carushi\n",
        "\n",
        "参考文献:\n",
        "- 元論文 [\"Efficient Estimation of Word Representations in Vector Space\"](https://arxiv.org/abs/1301.3781)\n",
        "- ワークフロー参考 \"Pytorch 自然言語処理プログラミング\" 新納浩幸\n",
        "\n",
        "2025.01.16"
      ]
    },
    {
      "cell_type": "markdown",
      "id": "QFDP9wEAbBYX",
      "metadata": {
        "id": "QFDP9wEAbBYX"
      },
      "source": [
        "## 目的\n",
        "Word2vecを使って、データセットの取得や単語・文章の潜在空間への埋め込みのイメージを掴もう。\n",
        "\n",
        "## やること\n",
        "* コーパスとなるデータを取得する\n",
        "* 分かち書きに変換する\n",
        "* gensimを使ってモデルを作成する\n",
        "* 単語や文章を与えて、それと近しい単語の探索や、単語の潜在空間上での四則演算を行ってみる\n",
        "\n",
        "## さいごに\n",
        "みなさんにそれぞれ「どんなデータ」を使って学習を行い、「どんな単語の埋め込みをしてみたか」や「どんな四則演算をしてみたか」を発表してもらいます。\n",
        "意外な面白い結果が得られることを期待しています。\n",
        "\n"
      ]
    },
    {
      "cell_type": "markdown",
      "id": "97cf1ec3-1abb-46f8-9b96-15ba8aaaa620",
      "metadata": {
        "id": "97cf1ec3-1abb-46f8-9b96-15ba8aaaa620"
      },
      "source": [
        "# 学習データセット\n",
        "1. https://github.com/Kyubyong/wordvectors?tab=readme-ov-file - wikipediaデータベースを用いた事前学習済みデータ\n",
        "2. 任意の学習済みモデル\n",
        "3. 任意のテキストデータ\n",
        "\n",
        "自分でテキストデータを用意する場合には、「クローリング」「スクレイピング」「コーパス」などのキーワードを使ってやり方を検索してください。大規模なクロールデータには https://commoncrawl.org/ などがあります。"
      ]
    },
    {
      "cell_type": "markdown",
      "id": "27ZejX1_vU4U",
      "metadata": {
        "id": "27ZejX1_vU4U"
      },
      "source": [
        "## 1 and 2 学習済みのモデルを用いる場合\n",
        "\n",
        "まず取得したデータセットを解凍したら、中のデータファイルを下のセルの再生ボタンをクリックして実行してから解凍して出てきたファイル群を選択して、Google collaboratoryにアップロードします。"
      ]
    },
    {
      "cell_type": "code",
      "execution_count": null,
      "id": "vkVcUZlHaiIT",
      "metadata": {
        "id": "vkVcUZlHaiIT"
      },
      "outputs": [],
      "source": [
        "from google.colab import files\n",
        "files.upload()"
      ]
    },
    {
      "cell_type": "markdown",
      "id": "zfCzp5HvjnaM",
      "metadata": {
        "id": "zfCzp5HvjnaM"
      },
      "source": [
        "アップロードには時間がかかるため、Google driveの容量に空きがあれば、そちらにアップロードしてからマウントした方が早いです。"
      ]
    },
    {
      "cell_type": "code",
      "execution_count": null,
      "id": "TXgM8Ssdwfn-",
      "metadata": {
        "id": "TXgM8Ssdwfn-"
      },
      "outputs": [],
      "source": [
        "from google.colab import drive\n",
        "drive.mount('/content/drive', force_remount=True)"
      ]
    },
    {
      "cell_type": "code",
      "execution_count": 5,
      "id": "8a_TU9HKkt-0",
      "metadata": {
        "colab": {
          "base_uri": "https://localhost:8080/"
        },
        "id": "8a_TU9HKkt-0",
        "outputId": "89de0bd8-a4a8-4b8c-b9ab-88c8569b5137"
      },
      "outputs": [
        {
          "name": "stdout",
          "output_type": "stream",
          "text": [
            "ja.bin  ja.bin.syn0.npy  ja.bin.syn1neg.npy  ja.tsv\n"
          ]
        }
      ],
      "source": [
        "## アップロードしたフォルダーのパスを覚えておきます\n",
        "%ls /content/drive/MyDrive/ja"
      ]
    },
    {
      "cell_type": "markdown",
      "id": "Ta0FMGK0vQ6z",
      "metadata": {
        "id": "Ta0FMGK0vQ6z"
      },
      "source": [
        "1のモデルを使う場合には、特別に古いバージョンのgensimをインストールします。自分で見つけた新しいモデルを使う場合には不要です。"
      ]
    },
    {
      "cell_type": "code",
      "execution_count": 4,
      "id": "dmiigMVUqn86",
      "metadata": {
        "colab": {
          "base_uri": "https://localhost:8080/"
        },
        "id": "dmiigMVUqn86",
        "outputId": "97c4acda-68d5-4d2c-f3d9-4a397ca0273b"
      },
      "outputs": [
        {
          "name": "stdout",
          "output_type": "stream",
          "text": [
            "Requirement already satisfied: gensim==3.8.0 in /usr/local/lib/python3.11/dist-packages (3.8.0)\n",
            "Requirement already satisfied: scipy==1.10.1 in /usr/local/lib/python3.11/dist-packages (1.10.1)\n",
            "Requirement already satisfied: numpy>=1.11.3 in /usr/local/lib/python3.11/dist-packages (from gensim==3.8.0) (1.26.4)\n",
            "Requirement already satisfied: six>=1.5.0 in /usr/local/lib/python3.11/dist-packages (from gensim==3.8.0) (1.17.0)\n",
            "Requirement already satisfied: smart_open>=1.7.0 in /usr/local/lib/python3.11/dist-packages (from gensim==3.8.0) (7.1.0)\n",
            "Requirement already satisfied: wrapt in /usr/local/lib/python3.11/dist-packages (from smart_open>=1.7.0->gensim==3.8.0) (1.17.0)\n"
          ]
        }
      ],
      "source": [
        "# !pip install gensim==3.8.3\n",
        "!pip install --use-pep517 gensim==3.8.0 scipy==1.10.1"
      ]
    },
    {
      "cell_type": "markdown",
      "id": "qXHrg-5yt-wS",
      "metadata": {
        "id": "qXHrg-5yt-wS"
      },
      "source": [
        "\n",
        "\n",
        "collectionsの現在の実装と一致しない部分があるため、↓を実行するとエラーがでます。\n",
        "\n",
        "エラーが出たら、その行が存在するファイル名（例：/usr/local/lib/python3.11/dist-packages/gensim/models/word2vec.py）をクリックすると右側にエディターが表示されますので、該当の行を以下のように書き換えてください。\n",
        "\n",
        "```\n",
        "from collections.abc import Mapping\n",
        "from collections import defaultdict\n",
        "from collections import namedtuple, defaultdict\n",
        "from collections.abc import Iterable\n",
        "from collections.abc import Iterable\n",
        "```\n",
        "\n",
        "(参照：https://zenn.dev/dzonesasaki/articles/eba660de8349ce)"
      ]
    },
    {
      "cell_type": "code",
      "execution_count": 9,
      "id": "lDh0JX91s8ig",
      "metadata": {
        "id": "lDh0JX91s8ig"
      },
      "outputs": [],
      "source": [
        "import gensim\n",
        "from gensim.models import Word2Vec, word2vec"
      ]
    },
    {
      "cell_type": "code",
      "execution_count": 50,
      "id": "Q77AZj0BlC_s",
      "metadata": {
        "colab": {
          "base_uri": "https://localhost:8080/"
        },
        "id": "Q77AZj0BlC_s",
        "outputId": "3eb3b7af-9f67-490b-d756-57819fac6c76"
      },
      "outputs": [
        {
          "name": "stderr",
          "output_type": "stream",
          "text": [
            "/usr/local/lib/python3.11/dist-packages/gensim/models/base_any2vec.py:742: UserWarning: C extension not loaded, training will be slow. Install a C compiler and reinstall gensim for fast training.\n",
            "  warnings.warn(\n"
          ]
        }
      ],
      "source": [
        "# アップロードしたフォルダーのja.binモデルをロードする。\n",
        "# Load Google's pre-trained Word2Vec model.\n",
        "model = Word2Vec.load('/content/drive/MyDrive/ja/ja.bin')\n",
        "\n",
        "# If it doesn't work, use this.\n",
        "# gensim.models.KeyedVectors.load_word2vec_format('ja.bin', binary=True)"
      ]
    },
    {
      "cell_type": "markdown",
      "id": "PtnE9pqcu2Kd",
      "metadata": {
        "id": "PtnE9pqcu2Kd"
      },
      "source": [
        "## 3 任意のテキストデータから学習する場合\n",
        "\n",
        "下の2つのセルのうち一つを走らせて、テキストファイルをアップロードするか、グーグルドライブをマウントしてファイルにアクセスできるようにしてください。"
      ]
    },
    {
      "cell_type": "code",
      "execution_count": null,
      "id": "DZabWpB3wkwy",
      "metadata": {
        "id": "DZabWpB3wkwy"
      },
      "outputs": [],
      "source": [
        "from google.colab import files\n",
        "files.upload()"
      ]
    },
    {
      "cell_type": "code",
      "execution_count": 4,
      "id": "wKZNsJSjelrP",
      "metadata": {
        "colab": {
          "base_uri": "https://localhost:8080/"
        },
        "id": "wKZNsJSjelrP",
        "outputId": "84f6c9ae-5058-4e87-941d-b084afda9e89"
      },
      "outputs": [
        {
          "name": "stdout",
          "output_type": "stream",
          "text": [
            "Mounted at /content/drive\n"
          ]
        }
      ],
      "source": [
        "from google.colab import drive\n",
        "drive.mount('/content/drive', force_remount=True)"
      ]
    },
    {
      "cell_type": "markdown",
      "id": "L34yesoQ1w-S",
      "metadata": {
        "id": "L34yesoQ1w-S"
      },
      "source": [
        "次にMecabを使って、文章を単語ごとに分割した分かち書きテキストを作成します。"
      ]
    },
    {
      "cell_type": "code",
      "execution_count": 26,
      "id": "6Mi-Qzn8e8iu",
      "metadata": {
        "colab": {
          "base_uri": "https://localhost:8080/"
        },
        "id": "6Mi-Qzn8e8iu",
        "outputId": "3ad0f569-bea0-440a-8b5c-553a29344d52"
      },
      "outputs": [
        {
          "name": "stdout",
          "output_type": "stream",
          "text": [
            "Requirement already satisfied: mecab-python3 in /usr/local/lib/python3.11/dist-packages (1.0.10)\n",
            "Collecting unidic-lite\n",
            "  Downloading unidic-lite-1.0.8.tar.gz (47.4 MB)\n",
            "\u001b[2K     \u001b[90m━━━━━━━━━━━━━━━━━━━━━━━━━━━━━━━━━━━━━━━━\u001b[0m \u001b[32m47.4/47.4 MB\u001b[0m \u001b[31m17.4 MB/s\u001b[0m eta \u001b[36m0:00:00\u001b[0m\n",
            "\u001b[?25h  Preparing metadata (setup.py) ... \u001b[?25l\u001b[?25hdone\n",
            "Building wheels for collected packages: unidic-lite\n",
            "  Building wheel for unidic-lite (setup.py) ... \u001b[?25l\u001b[?25hdone\n",
            "  Created wheel for unidic-lite: filename=unidic_lite-1.0.8-py3-none-any.whl size=47658818 sha256=9487977158522a4419a07467dce33b17664755008b259fac6f884cbed2917de1\n",
            "  Stored in directory: /root/.cache/pip/wheels/b7/fd/e9/ea4459b868e6d2902e8d80e82dbacb6203e05b3b3a58c64966\n",
            "Successfully built unidic-lite\n",
            "Installing collected packages: unidic-lite\n",
            "Successfully installed unidic-lite-1.0.8\n"
          ]
        }
      ],
      "source": [
        "%pip install mecab-python3\n",
        "%pip install unidic-lite"
      ]
    },
    {
      "cell_type": "code",
      "execution_count": 27,
      "id": "otXm2yCae-A0",
      "metadata": {
        "id": "otXm2yCae-A0"
      },
      "outputs": [],
      "source": [
        "import MeCab"
      ]
    },
    {
      "cell_type": "code",
      "execution_count": 28,
      "id": "A75eQfWm0GLI",
      "metadata": {
        "id": "A75eQfWm0GLI"
      },
      "outputs": [],
      "source": [
        "wakati = MeCab.Tagger(\"-Owakati\")"
      ]
    },
    {
      "cell_type": "code",
      "execution_count": 29,
      "id": "Vr64nK5mxu8h",
      "metadata": {
        "id": "Vr64nK5mxu8h"
      },
      "outputs": [],
      "source": [
        "with open(\"input.txt\") as f:\n",
        "  with open(\"wakati.txt\", \"w\") as of:\n",
        "    for line in f.readlines():\n",
        "      of.write(wakati.parse(line))"
      ]
    },
    {
      "cell_type": "code",
      "execution_count": 32,
      "id": "T2rk3-T10wac",
      "metadata": {
        "colab": {
          "base_uri": "https://localhost:8080/"
        },
        "id": "T2rk3-T10wac",
        "outputId": "13faf0d2-3a02-49ac-a02a-220301c2cb1f"
      },
      "outputs": [
        {
          "name": "stdout",
          "output_type": "stream",
          "text": [
            "\u001b[0m\u001b[01;34mdrive\u001b[0m/  \u001b[01;34msample_data\u001b[0m/  wakati.txt\n"
          ]
        }
      ],
      "source": [
        "# 現在地\n",
        "%pwd\n",
        "# 存在するファイル\n",
        "%ls"
      ]
    },
    {
      "cell_type": "markdown",
      "id": "acKP6gtXygjr",
      "metadata": {
        "id": "acKP6gtXygjr"
      },
      "source": [
        "## 3' 生命・情報関連の研究グラントの概要から学習する場合\n",
        "以下に私の方で作成した分かち書きに変換済みの生命・情報関係の研究費申請書（採択されたもの）のデータセットとモデルもアップロードしてありますので、ダウンロードして使ってみてください。（授業内での利用に留めてください）\n",
        "\n",
        "テキスト：https://www.dropbox.com/scl/fi/6672ulb2inn6n5jrga9dv/wakati.txt?rlkey=xnhezkgxnxq6isjjfu8qk04ti&dl=0\n",
        "\n",
        "モデル：https://www.dropbox.com/scl/fi/x14368352h5tqtu79rflx/myw2v.bin?rlkey=0tsnb88dzh7yy8zpqf0ekaqx6&dl=0\n",
        "\n",
        "### 作成方法\n",
        "* CiNiiデータベースに保存されたグラントのタイトル及びアウトライン\n",
        "  * 全文検索に対して生命 or 情報のキーワードでヒットした81708件（2010-2024年に限定）\n",
        "  * 200\\*50件表示が限度のようだったので、新しいものから大体2022年までのもの10000件（200*50）に関して CiNiiから文献idをTSV形式でダウンロード\n",
        "  * APIを使って各グラント情報をRDF形式でダウンロードし、スクリプトでタイトルとアウトラインを抽出\n",
        "  * mecabを使って分かち書きに変換（wakati.txt）"
      ]
    },
    {
      "cell_type": "code",
      "execution_count": 17,
      "id": "S9PGnOwJfQjt",
      "metadata": {
        "colab": {
          "base_uri": "https://localhost:8080/"
        },
        "id": "S9PGnOwJfQjt",
        "outputId": "44590f38-37dd-4f25-9b13-db4d829bbbcb"
      },
      "outputs": [
        {
          "name": "stdout",
          "output_type": "stream",
          "text": [
            "['生理', '機能', '計測', 'による', '能動', '学習', '効果', 'の', '客観', '的', 'な', '検証', '方法', 'の', '確立', 'と', '協', '働', '学習', 'モデル', 'の', '構築', '']\n"
          ]
        }
      ],
      "source": [
        "with open(\"wakati.txt\") as f:\n",
        "  for line in f.readlines():\n",
        "      print(line.rstrip('\\n').split(' '))\n",
        "      break"
      ]
    },
    {
      "cell_type": "markdown",
      "id": "93d81efd-9a70-4252-b01d-2eaa834765f0",
      "metadata": {
        "id": "93d81efd-9a70-4252-b01d-2eaa834765f0"
      },
      "source": [
        "## 3.5 モデルの作成\n",
        "分かち書きができたら、wakati.txtのテキストデータを使ってモデルを学習していきます。（時間がかかります）"
      ]
    },
    {
      "cell_type": "code",
      "execution_count": 33,
      "id": "2149bbc4-18ef-43c0-b1fa-451f68304c1f",
      "metadata": {
        "id": "2149bbc4-18ef-43c0-b1fa-451f68304c1f"
      },
      "outputs": [],
      "source": [
        "from gensim.models import word2vec, Word2Vec"
      ]
    },
    {
      "cell_type": "code",
      "execution_count": 34,
      "id": "d0d7452d-d751-451b-ba46-8df2d8dd15d5",
      "metadata": {
        "colab": {
          "base_uri": "https://localhost:8080/"
        },
        "id": "d0d7452d-d751-451b-ba46-8df2d8dd15d5",
        "outputId": "07aeaff7-70d1-4289-fab7-0ce446bb1260"
      },
      "outputs": [
        {
          "name": "stderr",
          "output_type": "stream",
          "text": [
            "/usr/local/lib/python3.11/dist-packages/gensim/models/base_any2vec.py:742: UserWarning: C extension not loaded, training will be slow. Install a C compiler and reinstall gensim for fast training.\n",
            "  warnings.warn(\n"
          ]
        }
      ],
      "source": [
        "sens = word2vec.LineSentence('wakati.txt')\n",
        "model = Word2Vec(sens)"
      ]
    },
    {
      "cell_type": "code",
      "execution_count": 35,
      "id": "54d5d33e-e76c-414e-8b61-ddef5c7bb06e",
      "metadata": {
        "id": "54d5d33e-e76c-414e-8b61-ddef5c7bb06e"
      },
      "outputs": [],
      "source": [
        "model.save('myw2v.bin')"
      ]
    },
    {
      "cell_type": "code",
      "execution_count": 41,
      "id": "e27492ef-f8f6-41fb-9f52-ec9bf5996b9f",
      "metadata": {
        "id": "e27492ef-f8f6-41fb-9f52-ec9bf5996b9f"
      },
      "outputs": [],
      "source": [
        "model = Word2Vec.load('myw2v.bin')"
      ]
    },
    {
      "cell_type": "markdown",
      "id": "ohbpWuYr1af4",
      "metadata": {
        "id": "ohbpWuYr1af4"
      },
      "source": [
        "# 学習したモデルをつかって単語の潜在空間を探索する"
      ]
    },
    {
      "cell_type": "code",
      "execution_count": 42,
      "id": "174fa95b-189d-4027-9a2e-57f4efcec7c8",
      "metadata": {
        "colab": {
          "base_uri": "https://localhost:8080/"
        },
        "id": "174fa95b-189d-4027-9a2e-57f4efcec7c8",
        "outputId": "9854db9d-9058-4b3c-b106-f548c56e2462"
      },
      "outputs": [
        {
          "data": {
            "text/plain": [
              "<gensim.models.word2vec.Word2Vec at 0x7de2c7ec8a50>"
            ]
          },
          "execution_count": 42,
          "metadata": {},
          "output_type": "execute_result"
        }
      ],
      "source": [
        "model"
      ]
    },
    {
      "cell_type": "markdown",
      "id": "GQZfSJyjGoH9",
      "metadata": {
        "id": "GQZfSJyjGoH9"
      },
      "source": [
        "Wikipediaのコーパスを使った場合"
      ]
    },
    {
      "cell_type": "code",
      "execution_count": null,
      "id": "1MCiOkjWGEx1",
      "metadata": {
        "colab": {
          "base_uri": "https://localhost:8080/"
        },
        "id": "1MCiOkjWGEx1",
        "outputId": "0ebcd72f-72eb-48db-948a-2e1b2c029752"
      },
      "outputs": [
        {
          "data": {
            "text/plain": [
              "[('名古屋', 0.6242502927780151),\n",
              " ('京都', 0.512305736541748),\n",
              " ('守口', 0.5011244416236877),\n",
              " ('中京', 0.4630984663963318),\n",
              " ('福岡', 0.4607725739479065),\n",
              " ('とうきょう', 0.4605318307876587),\n",
              " ('さいたま', 0.44708847999572754),\n",
              " ('はさいたま', 0.44614657759666443),\n",
              " ('城南', 0.444580078125),\n",
              " ('和光', 0.44234994053840637)]"
            ]
          },
          "execution_count": 54,
          "metadata": {},
          "output_type": "execute_result"
        }
      ],
      "source": [
        "model.wv.most_similar(positive=['東京', '大阪'], negative=['日本'])"
      ]
    },
    {
      "cell_type": "code",
      "execution_count": 57,
      "id": "fECIzvANGfJd",
      "metadata": {
        "colab": {
          "base_uri": "https://localhost:8080/"
        },
        "id": "fECIzvANGfJd",
        "outputId": "5d1b28e7-1cdb-4147-c475-6eac0a9c135d"
      },
      "outputs": [
        {
          "data": {
            "text/plain": [
              "[('右', 0.919243335723877),\n",
              " ('右端', 0.5390413403511047),\n",
              " ('右左', 0.4985501170158386),\n",
              " ('右側', 0.4926408529281616),\n",
              " ('京山', 0.491138756275177),\n",
              " ('左側', 0.4865301847457886),\n",
              " ('左前', 0.44742995500564575),\n",
              " ('上端', 0.44724756479263306),\n",
              " ('右前', 0.4472012519836426),\n",
              " ('中段', 0.4444594085216522)]"
            ]
          },
          "execution_count": 57,
          "metadata": {},
          "output_type": "execute_result"
        }
      ],
      "source": [
        "model.wv.most_similar('左', topn=10)"
      ]
    },
    {
      "cell_type": "markdown",
      "id": "vLtJ6-JEGuZM",
      "metadata": {
        "id": "vLtJ6-JEGuZM"
      },
      "source": [
        "研究費の申請書のコーパスを使った場合"
      ]
    },
    {
      "cell_type": "code",
      "execution_count": 43,
      "id": "6ef560b0-d4e1-4c6b-bfd8-a02e5555f41e",
      "metadata": {
        "colab": {
          "base_uri": "https://localhost:8080/"
        },
        "id": "6ef560b0-d4e1-4c6b-bfd8-a02e5555f41e",
        "outputId": "1c86182f-6203-4312-e097-1307b3ae080c"
      },
      "outputs": [
        {
          "data": {
            "text/plain": [
              "[('変異', 0.7713030576705933),\n",
              " ('因子', 0.7610106468200684),\n",
              " ('発現', 0.7430205345153809),\n",
              " ('RNA', 0.7421243190765381),\n",
              " ('ゲノム', 0.7349221706390381),\n",
              " ('タンパク質', 0.7328944206237793),\n",
              " ('配列', 0.719386875629425),\n",
              " ('DNA', 0.6910491585731506),\n",
              " ('エピゲノム', 0.6750292778015137),\n",
              " ('酵素', 0.6671015024185181)]"
            ]
          },
          "execution_count": 43,
          "metadata": {},
          "output_type": "execute_result"
        }
      ],
      "source": [
        "model.wv.most_similar('遺伝子', topn=10)"
      ]
    },
    {
      "cell_type": "code",
      "execution_count": null,
      "id": "2e81b9df-6124-4292-8da5-638f60b90e6e",
      "metadata": {
        "id": "2e81b9df-6124-4292-8da5-638f60b90e6e",
        "outputId": "2bea8ab7-ee82-4320-818a-0006cc503e18"
      },
      "outputs": [
        {
          "data": {
            "text/plain": [
              "[('DNA', 0.8396138548851013),\n",
              " ('タンパク質', 0.8388374447822571),\n",
              " ('塩基', 0.8298845887184143),\n",
              " ('アミノ酸', 0.822223961353302),\n",
              " ('mRNA', 0.821994423866272),\n",
              " ('鎖', 0.8218508958816528),\n",
              " ('核酸', 0.8201552629470825),\n",
              " ('配列', 0.8115821480751038),\n",
              " ('糖', 0.8071279525756836),\n",
              " ('エクソソーム', 0.8014001250267029)]"
            ]
          },
          "execution_count": 10,
          "metadata": {},
          "output_type": "execute_result"
        }
      ],
      "source": [
        "model.wv.most_similar('RNA', topn=10)"
      ]
    },
    {
      "cell_type": "code",
      "execution_count": null,
      "id": "bdc70aff-2630-4043-94a9-1946658a2b6a",
      "metadata": {
        "id": "bdc70aff-2630-4043-94a9-1946658a2b6a",
        "outputId": "5a64f935-61ee-44e7-9e43-34e12dfefd46"
      },
      "outputs": [
        {
          "data": {
            "text/plain": [
              "[('転写', 0.7654228210449219),\n",
              " ('塩基', 0.746963381767273),\n",
              " ('RNA', 0.7415634393692017),\n",
              " ('mRNA', 0.7248097062110901),\n",
              " ('エクソソーム', 0.712428867816925),\n",
              " ('発現', 0.705120325088501),\n",
              " ('プロファイル', 0.7047804594039917),\n",
              " ('局在', 0.7014954686164856),\n",
              " ('配列', 0.6936433911323547),\n",
              " ('ヒストン', 0.6935053467750549)]"
            ]
          },
          "execution_count": 11,
          "metadata": {},
          "output_type": "execute_result"
        }
      ],
      "source": [
        "model.wv.most_similar('エピゲノム', topn=10)"
      ]
    },
    {
      "cell_type": "code",
      "execution_count": null,
      "id": "9d1cada4-3c0f-4fbb-840f-810f0d18fe93",
      "metadata": {
        "id": "9d1cada4-3c0f-4fbb-840f-810f0d18fe93",
        "outputId": "f3d5d2b9-2587-4611-d11a-314e56c68635"
      },
      "outputs": [
        {
          "data": {
            "text/plain": [
              "[('深層', 0.942145049571991),\n",
              " ('強化', 0.7322642803192139),\n",
              " ('マルチタスク', 0.7020169496536255),\n",
              " ('連合', 0.6604371070861816),\n",
              " ('嫌悪', 0.656015932559967),\n",
              " ('ログ', 0.6528156399726868),\n",
              " ('要領', 0.6176374554634094),\n",
              " ('類推', 0.6006132364273071),\n",
              " ('AI', 0.5803837180137634),\n",
              " ('教師', 0.5769829750061035)]"
            ]
          },
          "execution_count": 12,
          "metadata": {},
          "output_type": "execute_result"
        }
      ],
      "source": [
        "model.wv.most_similar('機械', topn=10)"
      ]
    },
    {
      "cell_type": "markdown",
      "id": "Yk7OMQJhBeBv",
      "metadata": {
        "id": "Yk7OMQJhBeBv"
      },
      "source": [
        "# 学習したモデルをつかって文章の潜在空間を探索する\n",
        "\n",
        "単語だけでなく、文章レベルでの埋込を行うこともできます。\n",
        "以下にコードの例を示しました。\n",
        "グラントの申請書から学習されたモデルmyd2v.binを以下にアップロードしたので、試してみてください。\n",
        "\n",
        "https://www.dropbox.com/scl/fi/1axplayefxtosqar0yng6/myd2v.bin?rlkey=pakxlonpuyalxg113s0l2cxjl&dl=0"
      ]
    },
    {
      "cell_type": "code",
      "execution_count": 65,
      "id": "c4c1ac6b-f3e2-4b51-ae9f-c878030f3947",
      "metadata": {
        "id": "c4c1ac6b-f3e2-4b51-ae9f-c878030f3947"
      },
      "outputs": [],
      "source": [
        "from gensim.models.doc2vec import Doc2Vec\n",
        "from gensim.models.doc2vec import TaggedDocument"
      ]
    },
    {
      "cell_type": "code",
      "execution_count": 68,
      "id": "764305c4-6d0b-4888-be2e-c7c517bb21cd",
      "metadata": {
        "colab": {
          "base_uri": "https://localhost:8080/"
        },
        "id": "764305c4-6d0b-4888-be2e-c7c517bb21cd",
        "outputId": "059050eb-f438-412a-e04c-bedae28be145"
      },
      "outputs": [
        {
          "name": "stderr",
          "output_type": "stream",
          "text": [
            "/usr/local/lib/python3.11/dist-packages/gensim/models/base_any2vec.py:742: UserWarning: C extension not loaded, training will be slow. Install a C compiler and reinstall gensim for fast training.\n",
            "  warnings.warn(\n"
          ]
        }
      ],
      "source": [
        "f = open('wakati.txt', 'r')\n",
        "db_docs = [ TaggedDocument(words=data.split(), tags=[i]) for i, data in enumerate(f) ]\n",
        "model = Doc2Vec(db_docs)\n",
        "model.save('myd2v.bin')"
      ]
    },
    {
      "cell_type": "code",
      "execution_count": 69,
      "id": "c0a4088a-a8ad-4a94-9bab-c037b611e7f6",
      "metadata": {
        "id": "c0a4088a-a8ad-4a94-9bab-c037b611e7f6"
      },
      "outputs": [],
      "source": [
        "model = Doc2Vec.load('myd2v.bin')"
      ]
    },
    {
      "cell_type": "code",
      "execution_count": 75,
      "id": "a94c7a5e-c14e-4267-a73b-bfb44de7b994",
      "metadata": {
        "id": "a94c7a5e-c14e-4267-a73b-bfb44de7b994"
      },
      "outputs": [],
      "source": [
        "# 埋め込みたい文章\n",
        "name = ['授業1', '授業2', '授業3']\n",
        "docs = [['高次元', '生命', '情報', 'の', '数理'],\n",
        "        ['生命', '科学', 'に', 'おける', '振動', '現象', 'や', '同期', 'の', '本質', 'を', '理解', 'する'],\n",
        "        ['データ', '駆動', '生物', '学', 'に', '関する', '先端', '研究', 'に', 'ついて', 'の', '議論']]"
      ]
    },
    {
      "cell_type": "code",
      "execution_count": 76,
      "id": "32d654e5-b090-4976-bbfe-65f9bb7f567e",
      "metadata": {
        "colab": {
          "base_uri": "https://localhost:8080/"
        },
        "id": "32d654e5-b090-4976-bbfe-65f9bb7f567e",
        "outputId": "8cb368c0-2ab9-4034-dfce-f842b0c2f362"
      },
      "outputs": [
        {
          "name": "stdout",
          "output_type": "stream",
          "text": [
            "授業1\n",
            "['高次元', '生命', '情報', 'の', '数理']\n",
            "----\n",
            "授業2\n",
            "['生命', '科学', 'に', 'おける', '振動', '現象', 'や', '同期', 'の', '本質', 'を', '理解', 'する']\n",
            "----\n",
            "授業3\n",
            "['データ', '駆動', '生物', '学', 'に', '関する', '先端', '研究', 'に', 'ついて', 'の', '議論']\n",
            "----\n"
          ]
        }
      ],
      "source": [
        "for i in range(len(name)):\n",
        "    print(name[i])\n",
        "    print(docs[i])\n",
        "    print('----')"
      ]
    },
    {
      "cell_type": "code",
      "execution_count": 61,
      "id": "AvQ1KkV-Knp6",
      "metadata": {
        "colab": {
          "base_uri": "https://localhost:8080/"
        },
        "id": "AvQ1KkV-Knp6",
        "outputId": "a929013d-1030-49b6-cad2-6031055d9e08"
      },
      "outputs": [
        {
          "name": "stdout",
          "output_type": "stream",
          "text": [
            "Collecting japanize_matplotlib\n",
            "  Downloading japanize-matplotlib-1.1.3.tar.gz (4.1 MB)\n",
            "\u001b[?25l     \u001b[90m━━━━━━━━━━━━━━━━━━━━━━━━━━━━━━━━━━━━━━━━\u001b[0m \u001b[32m0.0/4.1 MB\u001b[0m \u001b[31m?\u001b[0m eta \u001b[36m-:--:--\u001b[0m\r\u001b[2K     \u001b[91m━━━━\u001b[0m\u001b[91m╸\u001b[0m\u001b[90m━━━━━━━━━━━━━━━━━━━━━━━━━━━━━━━━━━━\u001b[0m \u001b[32m0.5/4.1 MB\u001b[0m \u001b[31m16.3 MB/s\u001b[0m eta \u001b[36m0:00:01\u001b[0m\r\u001b[2K     \u001b[91m━━━━━━━━━━━━━━━━━━━━━━━━━━━━━━━━━━━━━━━\u001b[0m\u001b[91m╸\u001b[0m \u001b[32m4.1/4.1 MB\u001b[0m \u001b[31m59.0 MB/s\u001b[0m eta \u001b[36m0:00:01\u001b[0m\r\u001b[2K     \u001b[90m━━━━━━━━━━━━━━━━━━━━━━━━━━━━━━━━━━━━━━━━\u001b[0m \u001b[32m4.1/4.1 MB\u001b[0m \u001b[31m40.3 MB/s\u001b[0m eta \u001b[36m0:00:00\u001b[0m\n",
            "\u001b[?25h  Preparing metadata (setup.py) ... \u001b[?25l\u001b[?25hdone\n",
            "Requirement already satisfied: matplotlib in /usr/local/lib/python3.11/dist-packages (from japanize_matplotlib) (3.10.0)\n",
            "Requirement already satisfied: contourpy>=1.0.1 in /usr/local/lib/python3.11/dist-packages (from matplotlib->japanize_matplotlib) (1.3.1)\n",
            "Requirement already satisfied: cycler>=0.10 in /usr/local/lib/python3.11/dist-packages (from matplotlib->japanize_matplotlib) (0.12.1)\n",
            "Requirement already satisfied: fonttools>=4.22.0 in /usr/local/lib/python3.11/dist-packages (from matplotlib->japanize_matplotlib) (4.55.3)\n",
            "Requirement already satisfied: kiwisolver>=1.3.1 in /usr/local/lib/python3.11/dist-packages (from matplotlib->japanize_matplotlib) (1.4.8)\n",
            "Requirement already satisfied: numpy>=1.23 in /usr/local/lib/python3.11/dist-packages (from matplotlib->japanize_matplotlib) (1.26.4)\n",
            "Requirement already satisfied: packaging>=20.0 in /usr/local/lib/python3.11/dist-packages (from matplotlib->japanize_matplotlib) (24.2)\n",
            "Requirement already satisfied: pillow>=8 in /usr/local/lib/python3.11/dist-packages (from matplotlib->japanize_matplotlib) (11.1.0)\n",
            "Requirement already satisfied: pyparsing>=2.3.1 in /usr/local/lib/python3.11/dist-packages (from matplotlib->japanize_matplotlib) (3.2.1)\n",
            "Requirement already satisfied: python-dateutil>=2.7 in /usr/local/lib/python3.11/dist-packages (from matplotlib->japanize_matplotlib) (2.8.2)\n",
            "Requirement already satisfied: six>=1.5 in /usr/local/lib/python3.11/dist-packages (from python-dateutil>=2.7->matplotlib->japanize_matplotlib) (1.17.0)\n",
            "Building wheels for collected packages: japanize_matplotlib\n",
            "  Building wheel for japanize_matplotlib (setup.py) ... \u001b[?25l\u001b[?25hdone\n",
            "  Created wheel for japanize_matplotlib: filename=japanize_matplotlib-1.1.3-py3-none-any.whl size=4120257 sha256=bb03b1f69a861f5f2f4db28065af5d42978605c43b9bbc7ab320ea1d1cadda23\n",
            "  Stored in directory: /root/.cache/pip/wheels/da/a1/71/b8faeb93276fed10edffcca20746f1ef6f8d9e071eee8425fc\n",
            "Successfully built japanize_matplotlib\n",
            "Installing collected packages: japanize_matplotlib\n",
            "Successfully installed japanize_matplotlib-1.1.3\n"
          ]
        }
      ],
      "source": [
        "!pip install japanize_matplotlib"
      ]
    },
    {
      "cell_type": "code",
      "execution_count": 88,
      "id": "8X5t7M3Pa70g",
      "metadata": {
        "colab": {
          "base_uri": "https://localhost:8080/"
        },
        "id": "8X5t7M3Pa70g",
        "outputId": "681cf8ea-e160-4e1e-979a-0f30c7d12615"
      },
      "outputs": [
        {
          "name": "stdout",
          "output_type": "stream",
          "text": [
            "Collecting pyemd\n",
            "  Downloading pyemd-1.0.0-cp311-cp311-manylinux_2_17_x86_64.manylinux2014_x86_64.whl.metadata (9.6 kB)\n",
            "Requirement already satisfied: numpy>=1.9.0 in /usr/local/lib/python3.11/dist-packages (from pyemd) (1.26.4)\n",
            "Downloading pyemd-1.0.0-cp311-cp311-manylinux_2_17_x86_64.manylinux2014_x86_64.whl (666 kB)\n",
            "\u001b[?25l   \u001b[90m━━━━━━━━━━━━━━━━━━━━━━━━━━━━━━━━━━━━━━━━\u001b[0m \u001b[32m0.0/666.6 kB\u001b[0m \u001b[31m?\u001b[0m eta \u001b[36m-:--:--\u001b[0m\r\u001b[2K   \u001b[91m━━━━━━━━━━━━━━━━━━━━━━━━━━━━━━━━━━━\u001b[0m\u001b[91m╸\u001b[0m\u001b[90m━━━━\u001b[0m \u001b[32m593.9/666.6 kB\u001b[0m \u001b[31m17.7 MB/s\u001b[0m eta \u001b[36m0:00:01\u001b[0m\r\u001b[2K   \u001b[90m━━━━━━━━━━━━━━━━━━━━━━━━━━━━━━━━━━━━━━━━\u001b[0m \u001b[32m666.6/666.6 kB\u001b[0m \u001b[31m13.3 MB/s\u001b[0m eta \u001b[36m0:00:00\u001b[0m\n",
            "\u001b[?25hInstalling collected packages: pyemd\n",
            "Successfully installed pyemd-1.0.0\n"
          ]
        }
      ],
      "source": [
        "!pip install pyemd"
      ]
    },
    {
      "cell_type": "code",
      "execution_count": 72,
      "id": "646623f4-82ba-455e-aa06-05e988960ba8",
      "metadata": {
        "id": "646623f4-82ba-455e-aa06-05e988960ba8"
      },
      "outputs": [],
      "source": [
        "import numpy as np\n",
        "import pandas as pd\n",
        "import seaborn as sns\n",
        "from sklearn import datasets, manifold\n",
        "import matplotlib.pyplot as plt\n",
        "import japanize_matplotlib"
      ]
    },
    {
      "cell_type": "code",
      "execution_count": 77,
      "id": "39c1c383-dcba-4204-9a6f-ba12f93e52b0",
      "metadata": {
        "id": "39c1c383-dcba-4204-9a6f-ba12f93e52b0"
      },
      "outputs": [],
      "source": [
        "array = np.array([model.infer_vector(doc) for doc in docs])"
      ]
    },
    {
      "cell_type": "code",
      "execution_count": 78,
      "id": "e5beef3c-0741-4cbd-a5b3-338787898127",
      "metadata": {
        "colab": {
          "base_uri": "https://localhost:8080/"
        },
        "id": "e5beef3c-0741-4cbd-a5b3-338787898127",
        "outputId": "26c4c232-312d-4bb0-9363-e106254939de"
      },
      "outputs": [
        {
          "name": "stdout",
          "output_type": "stream",
          "text": [
            "[[-0.00853073 -0.01605764 -0.00299854 -0.02226282 -0.04294769  0.02962593\n",
            "   0.00576901 -0.01250274  0.01841827  0.0068221   0.01881693 -0.0280254\n",
            "   0.01763449  0.00571759  0.00645814 -0.03561741  0.01783886 -0.04150488\n",
            "   0.04304783  0.0182816  -0.01901563  0.02630887 -0.05126895 -0.03445845\n",
            "   0.03593169 -0.05328909  0.03136211  0.01472404  0.00736935 -0.02492603\n",
            "   0.02715955  0.03460165  0.03526171  0.00128596 -0.02148636  0.03364645\n",
            "   0.00628624 -0.00121073  0.00134613  0.00068288  0.00925224  0.00630683\n",
            "  -0.01131847 -0.03226639 -0.04514435 -0.00472722 -0.01242917  0.01301475\n",
            "  -0.00358323  0.03212881 -0.03428519 -0.01254564 -0.04022961  0.00105932\n",
            "   0.01060861 -0.00234375  0.0181767   0.0023409  -0.00643707 -0.00109655\n",
            "   0.04268654  0.04474565 -0.0099636   0.0116725  -0.00356426 -0.01232313\n",
            "  -0.0198235   0.01876468  0.0232878  -0.01406089 -0.007739   -0.02101467\n",
            "   0.01289461 -0.01549594  0.00230824  0.00618705  0.02171793 -0.02748426\n",
            "  -0.04898001  0.03420492 -0.01978808 -0.00667051 -0.00462233 -0.0238293\n",
            "  -0.0317283   0.00665063  0.03449327 -0.01832094 -0.01661667  0.07048641\n",
            "   0.03985719  0.04204945  0.00436857 -0.04636059  0.04955306 -0.03017798\n",
            "   0.02730104  0.00653226  0.01878539  0.06811209]\n",
            " [-0.09946062  0.09705164  0.01790517 -0.04358948  0.0940873   0.00766923\n",
            "   0.052993   -0.08718425  0.02280645  0.06276643  0.0227222  -0.01735914\n",
            "   0.04316957 -0.00460834 -0.01193917 -0.01808127 -0.02400598  0.0855627\n",
            "  -0.0258248   0.00880091 -0.02803191 -0.02536389 -0.0694704   0.01788359\n",
            "   0.05101901  0.01825124 -0.04366332  0.09345801  0.05080695  0.04767144\n",
            "  -0.07379296 -0.01007275 -0.05405197  0.00328425  0.07863931  0.04677877\n",
            "  -0.0265613   0.02370617 -0.00994275  0.01759305  0.02200439  0.00848317\n",
            "  -0.03108538 -0.03277914  0.00196652  0.02955773  0.08334351 -0.00862924\n",
            "  -0.05457981 -0.00368277 -0.01839089  0.00895477  0.00253839 -0.0198298\n",
            "   0.09807713 -0.06256954 -0.00755521 -0.05038824  0.03560777  0.05222949\n",
            "  -0.0282953  -0.04988079 -0.01507688 -0.02202725  0.00724186 -0.07841103\n",
            "   0.0018618   0.07394882  0.04759309  0.07490979 -0.07851779 -0.0040525\n",
            "   0.0146813   0.08333347 -0.02487302 -0.04800081 -0.09487308 -0.06467377\n",
            "   0.08313533 -0.07236152  0.02096454  0.06866077  0.03827176  0.07120506\n",
            "   0.01159492 -0.02150702  0.00144091  0.03122066 -0.00535451 -0.05861909\n",
            "   0.02089309 -0.10255463 -0.03181501  0.03126433 -0.02046159  0.05625345\n",
            "  -0.1028963   0.03876904 -0.06932808 -0.01683446]\n",
            " [-0.01381269  0.08310867  0.02631141 -0.03122908  0.0297702   0.02196596\n",
            "   0.01176525 -0.05937337  0.01260396  0.03629102  0.02684467 -0.00991417\n",
            "  -0.00460026 -0.02215775  0.02869779 -0.00310439 -0.02722312  0.04070257\n",
            "  -0.04666113  0.02682194 -0.01338895  0.02576957 -0.02300909  0.04190548\n",
            "   0.03494519 -0.05219226 -0.00522157  0.02626509 -0.01933981 -0.01023605\n",
            "  -0.02618142  0.01754475 -0.03334461 -0.05443836  0.01946215  0.04162614\n",
            "  -0.03296993  0.00073628 -0.0205008   0.03164532  0.03261628  0.0165819\n",
            "  -0.02729035 -0.02945324 -0.01928384 -0.02166443  0.05179459 -0.01023149\n",
            "  -0.00969924  0.00837221 -0.03696426 -0.02497281 -0.00296097  0.00438708\n",
            "   0.00771561 -0.01417801 -0.03154498  0.01550706  0.03084517  0.02164408\n",
            "   0.03900294  0.00445374  0.00817659 -0.00160026 -0.03197277  0.01907595\n",
            "  -0.0155786   0.05191365  0.05408691  0.02459151 -0.01683565 -0.00628143\n",
            "   0.05236342  0.02717588 -0.02690517 -0.00115279 -0.0596377  -0.04873952\n",
            "   0.01687175  0.00739577 -0.03102761 -0.02004087  0.03180096  0.00118188\n",
            "  -0.03655785  0.05157768  0.02321038 -0.01435736 -0.03300047  0.01083094\n",
            "   0.0163277  -0.0525425   0.01839517  0.00991848 -0.01436262 -0.00502459\n",
            "  -0.05305428  0.01728434  0.01498739 -0.00863547]]\n"
          ]
        }
      ],
      "source": [
        "print(array)"
      ]
    },
    {
      "cell_type": "code",
      "execution_count": 82,
      "id": "7bcde6a8-9b68-4d08-a2f2-3f1501100204",
      "metadata": {
        "id": "7bcde6a8-9b68-4d08-a2f2-3f1501100204"
      },
      "outputs": [],
      "source": [
        "n_neighbors = 5  # neighborhood which is used to recover the locally linear structure\n",
        "n_components = 2  # number of coordinates for the manifold\n",
        "\n",
        "t_sne = manifold.TSNE(\n",
        "    n_components=n_components,\n",
        "    perplexity=min(len(name), 10),\n",
        "    init=\"random\",\n",
        "    random_state=0,\n",
        ")\n"
      ]
    },
    {
      "cell_type": "code",
      "execution_count": 83,
      "id": "5b79e13d-9553-47b1-b006-c3d2e489eb87",
      "metadata": {
        "colab": {
          "base_uri": "https://localhost:8080/",
          "height": 321
        },
        "id": "5b79e13d-9553-47b1-b006-c3d2e489eb87",
        "outputId": "af1438c9-e9a6-45e8-cefd-7f5042ae4b3c"
      },
      "outputs": [
        {
          "ename": "ValueError",
          "evalue": "perplexity must be less than n_samples",
          "output_type": "error",
          "traceback": [
            "\u001b[0;31m---------------------------------------------------------------------------\u001b[0m",
            "\u001b[0;31mValueError\u001b[0m                                Traceback (most recent call last)",
            "\u001b[0;32m<ipython-input-83-bd8425d8015e>\u001b[0m in \u001b[0;36m<cell line: 0>\u001b[0;34m()\u001b[0m\n\u001b[1;32m      1\u001b[0m \u001b[0mdf\u001b[0m \u001b[0;34m=\u001b[0m \u001b[0mpd\u001b[0m\u001b[0;34m.\u001b[0m\u001b[0mDataFrame\u001b[0m\u001b[0;34m(\u001b[0m\u001b[0marray\u001b[0m\u001b[0;34m,\u001b[0m \u001b[0mindex\u001b[0m\u001b[0;34m=\u001b[0m\u001b[0mname\u001b[0m\u001b[0;34m)\u001b[0m\u001b[0;34m\u001b[0m\u001b[0;34m\u001b[0m\u001b[0m\n\u001b[0;32m----> 2\u001b[0;31m \u001b[0mtsne_result\u001b[0m \u001b[0;34m=\u001b[0m \u001b[0mt_sne\u001b[0m\u001b[0;34m.\u001b[0m\u001b[0mfit_transform\u001b[0m\u001b[0;34m(\u001b[0m\u001b[0mdf\u001b[0m\u001b[0;34m)\u001b[0m\u001b[0;34m\u001b[0m\u001b[0;34m\u001b[0m\u001b[0m\n\u001b[0m\u001b[1;32m      3\u001b[0m \u001b[0mtsne_result\u001b[0m\u001b[0;34m\u001b[0m\u001b[0;34m\u001b[0m\u001b[0m\n",
            "\u001b[0;32m/usr/local/lib/python3.11/dist-packages/sklearn/utils/_set_output.py\u001b[0m in \u001b[0;36mwrapped\u001b[0;34m(self, X, *args, **kwargs)\u001b[0m\n\u001b[1;32m    317\u001b[0m     \u001b[0;34m@\u001b[0m\u001b[0mwraps\u001b[0m\u001b[0;34m(\u001b[0m\u001b[0mf\u001b[0m\u001b[0;34m)\u001b[0m\u001b[0;34m\u001b[0m\u001b[0;34m\u001b[0m\u001b[0m\n\u001b[1;32m    318\u001b[0m     \u001b[0;32mdef\u001b[0m \u001b[0mwrapped\u001b[0m\u001b[0;34m(\u001b[0m\u001b[0mself\u001b[0m\u001b[0;34m,\u001b[0m \u001b[0mX\u001b[0m\u001b[0;34m,\u001b[0m \u001b[0;34m*\u001b[0m\u001b[0margs\u001b[0m\u001b[0;34m,\u001b[0m \u001b[0;34m**\u001b[0m\u001b[0mkwargs\u001b[0m\u001b[0;34m)\u001b[0m\u001b[0;34m:\u001b[0m\u001b[0;34m\u001b[0m\u001b[0;34m\u001b[0m\u001b[0m\n\u001b[0;32m--> 319\u001b[0;31m         \u001b[0mdata_to_wrap\u001b[0m \u001b[0;34m=\u001b[0m \u001b[0mf\u001b[0m\u001b[0;34m(\u001b[0m\u001b[0mself\u001b[0m\u001b[0;34m,\u001b[0m \u001b[0mX\u001b[0m\u001b[0;34m,\u001b[0m \u001b[0;34m*\u001b[0m\u001b[0margs\u001b[0m\u001b[0;34m,\u001b[0m \u001b[0;34m**\u001b[0m\u001b[0mkwargs\u001b[0m\u001b[0;34m)\u001b[0m\u001b[0;34m\u001b[0m\u001b[0;34m\u001b[0m\u001b[0m\n\u001b[0m\u001b[1;32m    320\u001b[0m         \u001b[0;32mif\u001b[0m \u001b[0misinstance\u001b[0m\u001b[0;34m(\u001b[0m\u001b[0mdata_to_wrap\u001b[0m\u001b[0;34m,\u001b[0m \u001b[0mtuple\u001b[0m\u001b[0;34m)\u001b[0m\u001b[0;34m:\u001b[0m\u001b[0;34m\u001b[0m\u001b[0;34m\u001b[0m\u001b[0m\n\u001b[1;32m    321\u001b[0m             \u001b[0;31m# only wrap the first output for cross decomposition\u001b[0m\u001b[0;34m\u001b[0m\u001b[0;34m\u001b[0m\u001b[0m\n",
            "\u001b[0;32m/usr/local/lib/python3.11/dist-packages/sklearn/base.py\u001b[0m in \u001b[0;36mwrapper\u001b[0;34m(estimator, *args, **kwargs)\u001b[0m\n\u001b[1;32m   1387\u001b[0m                 )\n\u001b[1;32m   1388\u001b[0m             ):\n\u001b[0;32m-> 1389\u001b[0;31m                 \u001b[0;32mreturn\u001b[0m \u001b[0mfit_method\u001b[0m\u001b[0;34m(\u001b[0m\u001b[0mestimator\u001b[0m\u001b[0;34m,\u001b[0m \u001b[0;34m*\u001b[0m\u001b[0margs\u001b[0m\u001b[0;34m,\u001b[0m \u001b[0;34m**\u001b[0m\u001b[0mkwargs\u001b[0m\u001b[0;34m)\u001b[0m\u001b[0;34m\u001b[0m\u001b[0;34m\u001b[0m\u001b[0m\n\u001b[0m\u001b[1;32m   1390\u001b[0m \u001b[0;34m\u001b[0m\u001b[0m\n\u001b[1;32m   1391\u001b[0m         \u001b[0;32mreturn\u001b[0m \u001b[0mwrapper\u001b[0m\u001b[0;34m\u001b[0m\u001b[0;34m\u001b[0m\u001b[0m\n",
            "\u001b[0;32m/usr/local/lib/python3.11/dist-packages/sklearn/manifold/_t_sne.py\u001b[0m in \u001b[0;36mfit_transform\u001b[0;34m(self, X, y)\u001b[0m\n\u001b[1;32m   1175\u001b[0m             \u001b[0mself\u001b[0m\u001b[0;34m.\u001b[0m\u001b[0m_max_iter\u001b[0m \u001b[0;34m=\u001b[0m \u001b[0mself\u001b[0m\u001b[0;34m.\u001b[0m\u001b[0mmax_iter\u001b[0m\u001b[0;34m\u001b[0m\u001b[0;34m\u001b[0m\u001b[0m\n\u001b[1;32m   1176\u001b[0m \u001b[0;34m\u001b[0m\u001b[0m\n\u001b[0;32m-> 1177\u001b[0;31m         \u001b[0mself\u001b[0m\u001b[0;34m.\u001b[0m\u001b[0m_check_params_vs_input\u001b[0m\u001b[0;34m(\u001b[0m\u001b[0mX\u001b[0m\u001b[0;34m)\u001b[0m\u001b[0;34m\u001b[0m\u001b[0;34m\u001b[0m\u001b[0m\n\u001b[0m\u001b[1;32m   1178\u001b[0m         \u001b[0membedding\u001b[0m \u001b[0;34m=\u001b[0m \u001b[0mself\u001b[0m\u001b[0;34m.\u001b[0m\u001b[0m_fit\u001b[0m\u001b[0;34m(\u001b[0m\u001b[0mX\u001b[0m\u001b[0;34m)\u001b[0m\u001b[0;34m\u001b[0m\u001b[0;34m\u001b[0m\u001b[0m\n\u001b[1;32m   1179\u001b[0m         \u001b[0mself\u001b[0m\u001b[0;34m.\u001b[0m\u001b[0membedding_\u001b[0m \u001b[0;34m=\u001b[0m \u001b[0membedding\u001b[0m\u001b[0;34m\u001b[0m\u001b[0;34m\u001b[0m\u001b[0m\n",
            "\u001b[0;32m/usr/local/lib/python3.11/dist-packages/sklearn/manifold/_t_sne.py\u001b[0m in \u001b[0;36m_check_params_vs_input\u001b[0;34m(self, X)\u001b[0m\n\u001b[1;32m    860\u001b[0m     \u001b[0;32mdef\u001b[0m \u001b[0m_check_params_vs_input\u001b[0m\u001b[0;34m(\u001b[0m\u001b[0mself\u001b[0m\u001b[0;34m,\u001b[0m \u001b[0mX\u001b[0m\u001b[0;34m)\u001b[0m\u001b[0;34m:\u001b[0m\u001b[0;34m\u001b[0m\u001b[0;34m\u001b[0m\u001b[0m\n\u001b[1;32m    861\u001b[0m         \u001b[0;32mif\u001b[0m \u001b[0mself\u001b[0m\u001b[0;34m.\u001b[0m\u001b[0mperplexity\u001b[0m \u001b[0;34m>=\u001b[0m \u001b[0mX\u001b[0m\u001b[0;34m.\u001b[0m\u001b[0mshape\u001b[0m\u001b[0;34m[\u001b[0m\u001b[0;36m0\u001b[0m\u001b[0;34m]\u001b[0m\u001b[0;34m:\u001b[0m\u001b[0;34m\u001b[0m\u001b[0;34m\u001b[0m\u001b[0m\n\u001b[0;32m--> 862\u001b[0;31m             \u001b[0;32mraise\u001b[0m \u001b[0mValueError\u001b[0m\u001b[0;34m(\u001b[0m\u001b[0;34m\"perplexity must be less than n_samples\"\u001b[0m\u001b[0;34m)\u001b[0m\u001b[0;34m\u001b[0m\u001b[0;34m\u001b[0m\u001b[0m\n\u001b[0m\u001b[1;32m    863\u001b[0m \u001b[0;34m\u001b[0m\u001b[0m\n\u001b[1;32m    864\u001b[0m     \u001b[0;32mdef\u001b[0m \u001b[0m_fit\u001b[0m\u001b[0;34m(\u001b[0m\u001b[0mself\u001b[0m\u001b[0;34m,\u001b[0m \u001b[0mX\u001b[0m\u001b[0;34m,\u001b[0m \u001b[0mskip_num_points\u001b[0m\u001b[0;34m=\u001b[0m\u001b[0;36m0\u001b[0m\u001b[0;34m)\u001b[0m\u001b[0;34m:\u001b[0m\u001b[0;34m\u001b[0m\u001b[0;34m\u001b[0m\u001b[0m\n",
            "\u001b[0;31mValueError\u001b[0m: perplexity must be less than n_samples"
          ]
        }
      ],
      "source": [
        "df = pd.DataFrame(array, index=name)\n",
        "tsne_result = t_sne.fit_transform(df, )\n",
        "tsne_result"
      ]
    },
    {
      "cell_type": "code",
      "execution_count": 84,
      "id": "dbac62fa-5e7e-4c14-83ce-40c9908090df",
      "metadata": {
        "colab": {
          "base_uri": "https://localhost:8080/",
          "height": 211
        },
        "id": "dbac62fa-5e7e-4c14-83ce-40c9908090df",
        "outputId": "fff9eb38-44f6-4f04-9e04-48c4a4d7c771"
      },
      "outputs": [
        {
          "ename": "NameError",
          "evalue": "name 'tsne_result' is not defined",
          "output_type": "error",
          "traceback": [
            "\u001b[0;31m---------------------------------------------------------------------------\u001b[0m",
            "\u001b[0;31mNameError\u001b[0m                                 Traceback (most recent call last)",
            "\u001b[0;32m<ipython-input-84-1853c5339743>\u001b[0m in \u001b[0;36m<cell line: 0>\u001b[0;34m()\u001b[0m\n\u001b[0;32m----> 1\u001b[0;31m \u001b[0mx\u001b[0m\u001b[0;34m,\u001b[0m \u001b[0my\u001b[0m \u001b[0;34m=\u001b[0m \u001b[0mtsne_result\u001b[0m\u001b[0;34m[\u001b[0m\u001b[0;34m:\u001b[0m\u001b[0;34m,\u001b[0m\u001b[0;36m0\u001b[0m\u001b[0;34m]\u001b[0m\u001b[0;34m,\u001b[0m \u001b[0mtsne_result\u001b[0m\u001b[0;34m[\u001b[0m\u001b[0;34m:\u001b[0m\u001b[0;34m,\u001b[0m\u001b[0;36m1\u001b[0m\u001b[0;34m]\u001b[0m\u001b[0;34m\u001b[0m\u001b[0;34m\u001b[0m\u001b[0m\n\u001b[0m\u001b[1;32m      2\u001b[0m \u001b[0mplt\u001b[0m\u001b[0;34m.\u001b[0m\u001b[0mfigure\u001b[0m\u001b[0;34m(\u001b[0m\u001b[0mfigsize\u001b[0m\u001b[0;34m=\u001b[0m\u001b[0;34m(\u001b[0m\u001b[0;36m10\u001b[0m\u001b[0;34m,\u001b[0m \u001b[0;36m10\u001b[0m\u001b[0;34m)\u001b[0m\u001b[0;34m)\u001b[0m\u001b[0;34m\u001b[0m\u001b[0;34m\u001b[0m\u001b[0m\n\u001b[1;32m      3\u001b[0m \u001b[0mplt\u001b[0m\u001b[0;34m.\u001b[0m\u001b[0mscatter\u001b[0m\u001b[0;34m(\u001b[0m\u001b[0mx\u001b[0m\u001b[0;34m,\u001b[0m \u001b[0my\u001b[0m\u001b[0;34m)\u001b[0m\u001b[0;34m\u001b[0m\u001b[0;34m\u001b[0m\u001b[0m\n\u001b[1;32m      4\u001b[0m \u001b[0;32mfor\u001b[0m \u001b[0mi\u001b[0m\u001b[0;34m,\u001b[0m \u001b[0mlabel\u001b[0m \u001b[0;32min\u001b[0m \u001b[0menumerate\u001b[0m\u001b[0;34m(\u001b[0m\u001b[0mname\u001b[0m\u001b[0;34m)\u001b[0m\u001b[0;34m:\u001b[0m\u001b[0;34m\u001b[0m\u001b[0;34m\u001b[0m\u001b[0m\n\u001b[1;32m      5\u001b[0m     \u001b[0mplt\u001b[0m\u001b[0;34m.\u001b[0m\u001b[0mannotate\u001b[0m\u001b[0;34m(\u001b[0m\u001b[0mlabel\u001b[0m\u001b[0;34m,\u001b[0m \u001b[0;34m(\u001b[0m\u001b[0mx\u001b[0m\u001b[0;34m[\u001b[0m\u001b[0mi\u001b[0m\u001b[0;34m]\u001b[0m\u001b[0;34m,\u001b[0m \u001b[0my\u001b[0m\u001b[0;34m[\u001b[0m\u001b[0mi\u001b[0m\u001b[0;34m]\u001b[0m\u001b[0;34m)\u001b[0m\u001b[0;34m,\u001b[0m \u001b[0mxytext\u001b[0m\u001b[0;34m=\u001b[0m\u001b[0;34m(\u001b[0m\u001b[0;36m5\u001b[0m\u001b[0;34m,\u001b[0m \u001b[0;36m5\u001b[0m\u001b[0;34m)\u001b[0m\u001b[0;34m,\u001b[0m \u001b[0mtextcoords\u001b[0m\u001b[0;34m=\u001b[0m\u001b[0;34m'offset points'\u001b[0m\u001b[0;34m)\u001b[0m\u001b[0;34m\u001b[0m\u001b[0;34m\u001b[0m\u001b[0m\n",
            "\u001b[0;31mNameError\u001b[0m: name 'tsne_result' is not defined"
          ]
        }
      ],
      "source": [
        "x, y = tsne_result[:,0], tsne_result[:,1]\n",
        "plt.figure(figsize=(10, 10))\n",
        "plt.scatter(x, y)\n",
        "for i, label in enumerate(name):\n",
        "    plt.annotate(label, (x[i], y[i]), xytext=(5, 5), textcoords='offset points')\n",
        "plt.title(\"tSNE for Doc2Vec embeddings\")\n",
        "plt.xlabel(\"X-axis\")\n",
        "plt.ylabel(\"Y-axis\")\n",
        "plt.show()"
      ]
    },
    {
      "cell_type": "code",
      "execution_count": 89,
      "id": "897201e4-441c-47a9-8ba3-76a096af2052",
      "metadata": {
        "colab": {
          "base_uri": "https://localhost:8080/"
        },
        "id": "897201e4-441c-47a9-8ba3-76a096af2052",
        "outputId": "455f3831-437f-4826-bc7d-d67cd3f0c0e3"
      },
      "outputs": [
        {
          "name": "stdout",
          "output_type": "stream",
          "text": [
            "(3, 3)\n"
          ]
        }
      ],
      "source": [
        "mat = np.zeros((df.shape[0], df.shape[0]))\n",
        "for i in range(len(docs)):\n",
        "    for j in range(len(docs)):\n",
        "        if j < i:\n",
        "            continue\n",
        "        if j == i:\n",
        "            mat[i,j] = 0\n",
        "            mat[j,i] = 0\n",
        "        else:\n",
        "            dist = model.wv.wmdistance(docs[i], docs[j])\n",
        "            mat[i,j] = dist\n",
        "            mat[j,i] = dist\n",
        "print(mat.shape)"
      ]
    },
    {
      "cell_type": "code",
      "execution_count": 90,
      "id": "16502c60-a2ab-4e4c-8389-9ded1eaa02c7",
      "metadata": {
        "colab": {
          "base_uri": "https://localhost:8080/",
          "height": 1000
        },
        "id": "16502c60-a2ab-4e4c-8389-9ded1eaa02c7",
        "outputId": "625f2684-0b68-49bc-ae65-8d4b14586b80"
      },
      "outputs": [
        {
          "name": "stderr",
          "output_type": "stream",
          "text": [
            "/usr/local/lib/python3.11/dist-packages/seaborn/matrix.py:530: ClusterWarning: scipy.cluster: The symmetric non-negative hollow observation matrix looks suspiciously like an uncondensed distance matrix\n",
            "  linkage = hierarchy.linkage(self.array, method=self.method,\n",
            "/usr/local/lib/python3.11/dist-packages/seaborn/matrix.py:530: ClusterWarning: scipy.cluster: The symmetric non-negative hollow observation matrix looks suspiciously like an uncondensed distance matrix\n",
            "  linkage = hierarchy.linkage(self.array, method=self.method,\n"
          ]
        },
        {
          "data": {
            "text/plain": [
              "<seaborn.matrix.ClusterGrid at 0x7de2c5907210>"
            ]
          },
          "execution_count": 90,
          "metadata": {},
          "output_type": "execute_result"
        },
        {
          "data": {
            "image/png": "[encoded data removed]",
            "text/plain": [
              "<Figure size 1000x1000 with 4 Axes>"
            ]
          },
          "metadata": {},
          "output_type": "display_data"
        }
      ],
      "source": [
        "cor_mat = pd.DataFrame(mat, index=df.index, columns=df.index)\n",
        "sns.clustermap(cor_mat,)# cmap='RdBu_r')"
      ]
    },
    {
      "cell_type": "code",
      "execution_count": 91,
      "id": "853740b4-2629-42d2-921f-615227a4b3db",
      "metadata": {
        "colab": {
          "base_uri": "https://localhost:8080/"
        },
        "id": "853740b4-2629-42d2-921f-615227a4b3db",
        "outputId": "1cf4dbec-4025-4e20-d428-9e2e0ce7e8ae"
      },
      "outputs": [
        {
          "name": "stdout",
          "output_type": "stream",
          "text": [
            "           0         1         2         3         4         5         6   \\\n",
            "授業1 -0.008531 -0.016058 -0.002999 -0.022263 -0.042948  0.029626  0.005769   \n",
            "授業2 -0.099461  0.097052  0.017905 -0.043589  0.094087  0.007669  0.052993   \n",
            "授業3 -0.013813  0.083109  0.026311 -0.031229  0.029770  0.021966  0.011765   \n",
            "生命  -0.039532  0.074875 -0.000636 -0.031692  0.019623  0.043095  0.005404   \n",
            "情報  -0.062816  0.025110  0.018563  0.012302  0.017038  0.009506  0.039670   \n",
            "\n",
            "           7         8         9   ...        90        91        92  \\\n",
            "授業1 -0.012503  0.018418  0.006822  ...  0.039857  0.042049  0.004369   \n",
            "授業2 -0.087184  0.022806  0.062766  ...  0.020893 -0.102555 -0.031815   \n",
            "授業3 -0.059373  0.012604  0.036291  ...  0.016328 -0.052543  0.018395   \n",
            "生命  -0.025227  0.026649  0.019470  ... -0.010062 -0.046176 -0.050833   \n",
            "情報  -0.037340  0.016768  0.015894  ...  0.004768 -0.064548 -0.009911   \n",
            "\n",
            "           93        94        95        96        97        98        99  \n",
            "授業1 -0.046361  0.049553 -0.030178  0.027301  0.006532  0.018785  0.068112  \n",
            "授業2  0.031264 -0.020462  0.056253 -0.102896  0.038769 -0.069328 -0.016834  \n",
            "授業3  0.009918 -0.014363 -0.005025 -0.053054  0.017284  0.014987 -0.008635  \n",
            "生命   0.024368 -0.012781  0.004991 -0.028789  0.036869  0.005747 -0.014071  \n",
            "情報   0.048260  0.015148 -0.008710 -0.038936 -0.021924 -0.008866  0.006527  \n",
            "\n",
            "[5 rows x 100 columns]\n"
          ]
        },
        {
          "data": {
            "text/plain": [
              "array([[ -9.95792  , -99.9539   ],\n",
              "       [-60.68208  ,  71.88122  ],\n",
              "       [ 36.885506 , -30.28837  ],\n",
              "       [-28.59102  , -17.944336 ],\n",
              "       [  1.5456475,  29.112951 ]], dtype=float32)"
            ]
          },
          "execution_count": 91,
          "metadata": {},
          "output_type": "execute_result"
        }
      ],
      "source": [
        "new_array = [model.infer_vector(doc) for doc in [['生命'], ['情報']]]\n",
        "new_name = ['生命', '情報']\n",
        "df = pd.DataFrame(np.concatenate((array, new_array)), index=name+new_name)\n",
        "print(df)\n",
        "tsne_result = t_sne.fit_transform(df)\n",
        "tsne_result"
      ]
    },
    {
      "cell_type": "code",
      "execution_count": 92,
      "id": "4b9af29a-aa2e-4c5b-99fc-3d98783cbc5f",
      "metadata": {
        "colab": {
          "base_uri": "https://localhost:8080/",
          "height": 869
        },
        "id": "4b9af29a-aa2e-4c5b-99fc-3d98783cbc5f",
        "outputId": "0c80c1b4-b107-46b4-be89-daf17438540e"
      },
      "outputs": [
        {
          "data": {
            "image/png": "[encoded data removed]",
            "text/plain": [
              "<Figure size 1000x1000 with 1 Axes>"
            ]
          },
          "metadata": {},
          "output_type": "display_data"
        }
      ],
      "source": [
        "x, y = tsne_result[:,0], tsne_result[:,1]\n",
        "plt.figure(figsize=(10, 10))\n",
        "plt.scatter(x, y)\n",
        "for i, label in enumerate(name+new_name):\n",
        "    plt.annotate(label, (x[i], y[i]), xytext=(5, 5), textcoords='offset points')\n",
        "plt.title(\"tSNE for Doc2Vec embeddings\")\n",
        "plt.xlabel(\"X-axis\")\n",
        "plt.ylabel(\"Y-axis\")\n",
        "plt.show()"
      ]
    },
    {
      "cell_type": "code",
      "execution_count": 94,
      "id": "48079945-98bf-4338-9668-4268b218506e",
      "metadata": {
        "colab": {
          "base_uri": "https://localhost:8080/"
        },
        "id": "48079945-98bf-4338-9668-4268b218506e",
        "outputId": "97124015-7d2b-4d34-c87f-0231a5be20de"
      },
      "outputs": [
        {
          "name": "stdout",
          "output_type": "stream",
          "text": [
            "5\n",
            "[['高次元', '生命', '情報', 'の', '数理'], ['生命', '科学', 'に', 'おける', '振動', '現象', 'や', '同期', 'の', '本質', 'を', '理解', 'する'], ['データ', '駆動', '生物', '学', 'に', '関する', '先端', '研究', 'に', 'ついて', 'の', '議論'], '生命', '情報']\n",
            "(5, 5)\n"
          ]
        }
      ],
      "source": [
        "mat = np.zeros((df.shape[0], df.shape[0]))\n",
        "new_docs = docs+new_name\n",
        "print(len(new_docs))\n",
        "print(new_docs)\n",
        "for i in range(len(new_docs)):\n",
        "    for j in range(len(new_docs)):\n",
        "        if j < i:\n",
        "            continue\n",
        "        if j == i:\n",
        "            mat[i,j] = 0\n",
        "            mat[j,i] = 0\n",
        "        else:\n",
        "            dist = model.wv.wmdistance(new_docs[i], new_docs[j])\n",
        "            mat[i,j] = dist\n",
        "            mat[j,i] = dist\n",
        "print(mat.shape)"
      ]
    },
    {
      "cell_type": "code",
      "execution_count": 95,
      "id": "c6df2b86-8f0b-4756-b635-c7dfdcf0680f",
      "metadata": {
        "colab": {
          "base_uri": "https://localhost:8080/",
          "height": 1000
        },
        "id": "c6df2b86-8f0b-4756-b635-c7dfdcf0680f",
        "outputId": "ecdc9605-0f2b-4fef-85fd-624335f33fd1"
      },
      "outputs": [
        {
          "name": "stderr",
          "output_type": "stream",
          "text": [
            "/usr/local/lib/python3.11/dist-packages/seaborn/matrix.py:530: ClusterWarning: scipy.cluster: The symmetric non-negative hollow observation matrix looks suspiciously like an uncondensed distance matrix\n",
            "  linkage = hierarchy.linkage(self.array, method=self.method,\n",
            "/usr/local/lib/python3.11/dist-packages/seaborn/matrix.py:530: ClusterWarning: scipy.cluster: The symmetric non-negative hollow observation matrix looks suspiciously like an uncondensed distance matrix\n",
            "  linkage = hierarchy.linkage(self.array, method=self.method,\n"
          ]
        },
        {
          "data": {
            "text/plain": [
              "<seaborn.matrix.ClusterGrid at 0x7de2c7c6e010>"
            ]
          },
          "execution_count": 95,
          "metadata": {},
          "output_type": "execute_result"
        },
        {
          "data": {
            "image/png": "[encoded data removed]",
            "text/plain": [
              "<Figure size 1000x1000 with 4 Axes>"
            ]
          },
          "metadata": {},
          "output_type": "display_data"
        }
      ],
      "source": [
        "cor_mat = pd.DataFrame(mat, index=df.index, columns=df.index)\n",
        "sns.clustermap(cor_mat)"
      ]
    },
    {
      "cell_type": "code",
      "execution_count": 96,
      "id": "fa592844-e8e8-469b-bf96-176efc205b0c",
      "metadata": {
        "colab": {
          "base_uri": "https://localhost:8080/",
          "height": 972
        },
        "id": "fa592844-e8e8-469b-bf96-176efc205b0c",
        "outputId": "3864ec21-66b9-4fa2-9dc6-3a41c1c6126a"
      },
      "outputs": [
        {
          "data": {
            "text/plain": [
              "<seaborn.matrix.ClusterGrid at 0x7de2c7e62850>"
            ]
          },
          "execution_count": 96,
          "metadata": {},
          "output_type": "execute_result"
        },
        {
          "data": {
            "image/png": "[encoded data removed]",
            "text/plain": [
              "<Figure size 1000x1000 with 4 Axes>"
            ]
          },
          "metadata": {},
          "output_type": "display_data"
        }
      ],
      "source": [
        "sns.clustermap(cor_mat.iloc[-2:23,0:21], standard_scale=0, cmap='viridis')"
      ]
    },
    {
      "cell_type": "code",
      "execution_count": null,
      "id": "P9ozkhWzbRLf",
      "metadata": {
        "id": "P9ozkhWzbRLf"
      },
      "outputs": [],
      "source": []
    }
  ],
  "metadata": {
    "colab": {
      "provenance": []
    },
    "kernelspec": {
      "display_name": "geneformer",
      "language": "python",
      "name": "geneformer"
    },
    "language_info": {
      "codemirror_mode": {
        "name": "ipython",
        "version": 3
      },
      "file_extension": ".py",
      "mimetype": "text/x-python",
      "name": "python",
      "nbconvert_exporter": "python",
      "pygments_lexer": "ipython3",
      "version": "3.11.5"
    }
  },
  "nbformat": 4,
  "nbformat_minor": 5
}
